{
 "cells": [
  {
   "cell_type": "markdown",
   "metadata": {},
   "source": [
    "# Assignment 16"
   ]
  },
  {
   "cell_type": "markdown",
   "metadata": {},
   "source": [
    "## Question 1"
   ]
  },
  {
   "cell_type": "code",
   "execution_count": 1,
   "metadata": {},
   "outputs": [
    {
     "data": {
      "image/png": "[encoded data removed]",
      "text/plain": [
       "Plot with title \"Histogram of ss\""
      ]
     },
     "metadata": {},
     "output_type": "display_data",
     "source": "R display func"
    }
   ],
   "source": [
    "x = rnorm(1000,0,1)\n",
    "y = rnorm(1000,0,1)\n",
    "z = rnorm(1000,0,1)\n",
    "t = rnorm(1000,0,1)\n",
    "w = rnorm(1000,0,1)\n",
    "v = rnorm(1000,0,1)\n",
    "u = rnorm(1000,0,1)\n",
    "ss = x^2 + y^2 +z^2 + t^2 + w^2 + v^2 + u^2\n",
    "hist(ss)"
   ]
  },
  {
   "cell_type": "markdown",
   "metadata": {},
   "source": [
    "## Question 2"
   ]
  },
  {
   "cell_type": "code",
   "execution_count": 2,
   "metadata": {},
   "outputs": [
    {
     "data": {
      "text/html": [
       "0.094"
      ],
      "text/latex": [
       "0.094"
      ],
      "text/markdown": [
       "0.094"
      ],
      "text/plain": [
       "[1] 0.094"
      ]
     },
     "metadata": {},
     "output_type": "display_data"
    }
   ],
   "source": [
    "x = sample(1:6, 1000, replace = TRUE)\n",
    "y = sample(1:6, 1000, replace = TRUE)\n",
    "z = sample(1:6, 1000, replace = TRUE)\n",
    "sum(x > (y + z))/1000"
   ]
  },
  {
   "cell_type": "markdown",
   "metadata": {},
   "source": [
    "## Question 3"
   ]
  },
  {
   "cell_type": "code",
   "execution_count": 4,
   "metadata": {},
   "outputs": [
    {
     "data": {
      "text/html": [
       "0.558"
      ],
      "text/latex": [
       "0.558"
      ],
      "text/markdown": [
       "0.558"
      ],
      "text/plain": [
       "[1] 0.558"
      ]
     },
     "metadata": {},
     "output_type": "display_data"
    }
   ],
   "source": [
    "M = c()\n",
    "for(i in 1:1000)\n",
    "{\n",
    "u1 = runif(1, 0, 1)\n",
    "u2 = runif(1, 0, 1)\n",
    "u3 = runif(1, 0, 1)\n",
    "M = c(max(u1, u2, u3), M)\n",
    "}\n",
    "sum(M>0.75)/1000"
   ]
  },
  {
   "cell_type": "markdown",
   "metadata": {},
   "source": [
    "## Question 4"
   ]
  },
  {
   "cell_type": "code",
   "execution_count": 5,
   "metadata": {},
   "outputs": [
    {
     "data": {
      "text/html": [
       "18.528"
      ],
      "text/latex": [
       "18.528"
      ],
      "text/markdown": [
       "18.528"
      ],
      "text/plain": [
       "[1] 18.528"
      ]
     },
     "metadata": {},
     "output_type": "display_data"
    }
   ],
   "source": [
    "x = runif(1000,-2,2)\n",
    "y = runif(1000,-3,3)\n",
    "(sum(1 > (x^2/4)+(y^2/9))/1000) * 24"
   ]
  },
  {
   "cell_type": "markdown",
   "metadata": {},
   "source": [
    "## Question 5"
   ]
  },
  {
   "cell_type": "code",
   "execution_count": 6,
   "metadata": {},
   "outputs": [
    {
     "data": {
      "text/html": [
       "1.31481028315284"
      ],
      "text/latex": [
       "1.31481028315284"
      ],
      "text/markdown": [
       "1.31481028315284"
      ],
      "text/plain": [
       "[1] 1.31481"
      ]
     },
     "metadata": {},
     "output_type": "display_data"
    }
   ],
   "source": [
    "x = runif(1000,0,1)\n",
    "y = runif(1000,0, 1 + sin(1))\n",
    "f = 1 + x*sin(x)\n",
    "(sum(y < f)/1000)*(1+sin(1))"
   ]
  },
  {
   "cell_type": "markdown",
   "metadata": {},
   "source": [
    "## Question 6"
   ]
  },
  {
   "cell_type": "code",
   "execution_count": 7,
   "metadata": {},
   "outputs": [
    {
     "data": {
      "text/plain": [
       "\n",
       "Call:\n",
       "lm(formula = y ~ x)\n",
       "\n",
       "Coefficients:\n",
       "(Intercept)            x  \n",
       "      3.007        2.085  \n"
      ]
     },
     "metadata": {},
     "output_type": "display_data"
    }
   ],
   "source": [
    "x = runif(1000, -1, 1)\n",
    "e = rnorm(1000, 0, 1)\n",
    "y = 2*x + 3 + e\n",
    "lm(y~x)"
   ]
  },
  {
   "cell_type": "markdown",
   "metadata": {},
   "source": [
    "## Question 7"
   ]
  },
  {
   "cell_type": "code",
   "execution_count": 9,
   "metadata": {},
   "outputs": [
    {
     "name": "stdout",
     "output_type": "stream",
     "text": [
      "\n",
      "Call:\n",
      "lm(formula = y ~ x)\n",
      "\n",
      "Coefficients:\n",
      "(Intercept)            x  \n",
      "      3.004        2.004  \n",
      "\n",
      "\n",
      "Call:\n",
      "lm(formula = y ~ x)\n",
      "\n",
      "Coefficients:\n",
      "(Intercept)            x  \n",
      "      2.975        1.995  \n",
      "\n",
      "\n",
      "Call:\n",
      "lm(formula = y ~ x)\n",
      "\n",
      "Coefficients:\n",
      "(Intercept)            x  \n",
      "      3.114        1.857  \n",
      "\n",
      "\n",
      "Call:\n",
      "lm(formula = y ~ x)\n",
      "\n",
      "Coefficients:\n",
      "(Intercept)            x  \n",
      "      3.011        2.225  \n",
      "\n",
      "\n",
      "Call:\n",
      "lm(formula = y ~ x)\n",
      "\n",
      "Coefficients:\n",
      "(Intercept)            x  \n",
      "      2.955        1.656  \n",
      "\n",
      "\n",
      "Call:\n",
      "lm(formula = y ~ x)\n",
      "\n",
      "Coefficients:\n",
      "(Intercept)            x  \n",
      "      3.194        1.659  \n",
      "\n",
      "\n",
      "Call:\n",
      "lm(formula = y ~ x)\n",
      "\n",
      "Coefficients:\n",
      "(Intercept)            x  \n",
      "      5.911        4.682  \n",
      "\n",
      "\n",
      "Call:\n",
      "lm(formula = y ~ x)\n",
      "\n",
      "Coefficients:\n",
      "(Intercept)            x  \n",
      "      2.998       -2.105  \n",
      "\n"
     ]
    }
   ],
   "source": [
    "s = c(.1,1,2,5,10,20,50,100)\n",
    "for (i in s)\n",
    "{\n",
    "x = runif(1000, -1, 1)\n",
    "e = rnorm(1000, 0, i)\n",
    "y = 2*x + 3 + e\n",
    "print(lm(y~x))\n",
    "}\n",
    "# As the SD of the normal distribution for epsilon increases, the accuracy for which it predicts the slope and the intercept also decreases.\n",
    "# If more simulations (e.g. 1000 v 1000000) were run then one could essentially make the epsilon value irrelevant no matter what the SD was."
   ]
  }
 ],
 "metadata": {
  "kernelspec": {
   "display_name": "R",
   "language": "R",
   "name": "ir"
  },
  "language_info": {
   "codemirror_mode": "r",
   "file_extension": ".r",
   "mimetype": "text/x-r-source",
   "name": "R",
   "pygments_lexer": "r",
   "version": "3.5.1"
  }
 },
 "nbformat": 4,
 "nbformat_minor": 2
}
