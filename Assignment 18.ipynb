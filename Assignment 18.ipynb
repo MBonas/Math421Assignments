{
 "cells": [
  {
   "cell_type": "markdown",
   "metadata": {},
   "source": [
    "# Assignment 18"
   ]
  },
  {
   "cell_type": "markdown",
   "metadata": {},
   "source": [
    "## Question 1"
   ]
  },
  {
   "cell_type": "code",
   "execution_count": 3,
   "metadata": {},
   "outputs": [
    {
     "name": "stderr",
     "output_type": "stream",
     "text": [
      "Loading required package: lattice\n",
      "Loading required package: ggplot2\n"
     ]
    }
   ],
   "source": [
    "library(ranger)\n",
    "library(caret)\n",
    "library(MB14)\n",
    "a18 = read.csv(\"~/Fall Semester 2018/Statistical Analysis with R/Assignments/Assignment 18/hmeq.csv\")\n",
    "a18$BAD = as.factor(a18$BAD)\n",
    "names(a18)[1] = \"target\""
   ]
  },
  {
   "cell_type": "markdown",
   "metadata": {},
   "source": [
    "## Question 2"
   ]
  },
  {
   "cell_type": "code",
   "execution_count": 4,
   "metadata": {},
   "outputs": [],
   "source": [
    "a18 = QuickClean(a18,0)"
   ]
  },
  {
   "cell_type": "markdown",
   "metadata": {},
   "source": [
    "## Question 3"
   ]
  },
  {
   "cell_type": "code",
   "execution_count": 5,
   "metadata": {},
   "outputs": [],
   "source": [
    "splitIndex <- createDataPartition(a18$target, p = .70, list = FALSE, times = 1)\n",
    "train <- a18[ splitIndex,]\n",
    "test <- a18[-splitIndex,]"
   ]
  },
  {
   "cell_type": "markdown",
   "metadata": {},
   "source": [
    "## Question 4"
   ]
  },
  {
   "cell_type": "code",
   "execution_count": 6,
   "metadata": {},
   "outputs": [
    {
     "data": {
      "text/html": [
       "<strong>Accuracy:</strong> 0.950617283950617"
      ],
      "text/latex": [
       "\\textbf{Accuracy:} 0.950617283950617"
      ],
      "text/markdown": [
       "**Accuracy:** 0.950617283950617"
      ],
      "text/plain": [
       " Accuracy \n",
       "0.9506173 "
      ]
     },
     "metadata": {},
     "output_type": "display_data"
    },
    {
     "data": {
      "text/html": [
       "<strong>Balanced Accuracy:</strong> 0.722305795593358"
      ],
      "text/latex": [
       "\\textbf{Balanced Accuracy:} 0.722305795593358"
      ],
      "text/markdown": [
       "**Balanced Accuracy:** 0.722305795593358"
      ],
      "text/plain": [
       "Balanced Accuracy \n",
       "        0.7223058 "
      ]
     },
     "metadata": {},
     "output_type": "display_data"
    }
   ],
   "source": [
    "model = ranger(target ~., data = train)\n",
    "pred = predict(model, data = test)$predictions\n",
    "cm=confusionMatrix(pred, test$target, positive=\"1\")\n",
    "cm$overall[1]\n",
    "cm$byClass[11]"
   ]
  },
  {
   "cell_type": "markdown",
   "metadata": {},
   "source": [
    "## Question 5"
   ]
  },
  {
   "cell_type": "code",
   "execution_count": 7,
   "metadata": {},
   "outputs": [
    {
     "data": {
      "text/plain": [
       "\n",
       "         0          1 \n",
       "0.91209104 0.08790896 "
      ]
     },
     "metadata": {},
     "output_type": "display_data"
    }
   ],
   "source": [
    "prop.table(table(a18$target))"
   ]
  },
  {
   "cell_type": "markdown",
   "metadata": {},
   "source": [
    "## Question 6"
   ]
  },
  {
   "cell_type": "code",
   "execution_count": 8,
   "metadata": {},
   "outputs": [
    {
     "data": {
      "text/html": [
       "<strong>Accuracy:</strong> 0.824311490978158"
      ],
      "text/latex": [
       "\\textbf{Accuracy:} 0.824311490978158"
      ],
      "text/markdown": [
       "**Accuracy:** 0.824311490978158"
      ],
      "text/plain": [
       " Accuracy \n",
       "0.8243115 "
      ]
     },
     "metadata": {},
     "output_type": "display_data"
    },
    {
     "data": {
      "text/html": [
       "<strong>Balanced Accuracy:</strong> 0.834943220377324"
      ],
      "text/latex": [
       "\\textbf{Balanced Accuracy:} 0.834943220377324"
      ],
      "text/markdown": [
       "**Balanced Accuracy:** 0.834943220377324"
      ],
      "text/plain": [
       "Balanced Accuracy \n",
       "        0.8349432 "
      ]
     },
     "metadata": {},
     "output_type": "display_data"
    }
   ],
   "source": [
    "train1 = train[train$target == \"1\",]\n",
    "train0 = train[train$target == '0',]\n",
    "n1 = nrow(train1)\n",
    "n0 = nrow(train0)\n",
    "train00 = train0[sample(1:n0,n1),]\n",
    "train_under = rbind(train00, train1)\n",
    "model_under = ranger(target~., data = train_under)\n",
    "pred_under = predict(model_under, data = test)$predictions\n",
    "cm_under=confusionMatrix(pred_under, test$target, positive=\"1\")\n",
    "cm_under$overall[1]\n",
    "cm_under$byClass[11]"
   ]
  },
  {
   "cell_type": "markdown",
   "metadata": {},
   "source": [
    "## Question 7"
   ]
  },
  {
   "cell_type": "code",
   "execution_count": 9,
   "metadata": {},
   "outputs": [
    {
     "data": {
      "text/html": [
       "<strong>Accuracy:</strong> 0.948717948717949"
      ],
      "text/latex": [
       "\\textbf{Accuracy:} 0.948717948717949"
      ],
      "text/markdown": [
       "**Accuracy:** 0.948717948717949"
      ],
      "text/plain": [
       " Accuracy \n",
       "0.9487179 "
      ]
     },
     "metadata": {},
     "output_type": "display_data"
    },
    {
     "data": {
      "text/html": [
       "<strong>Balanced Accuracy:</strong> 0.716350721621499"
      ],
      "text/latex": [
       "\\textbf{Balanced Accuracy:} 0.716350721621499"
      ],
      "text/markdown": [
       "**Balanced Accuracy:** 0.716350721621499"
      ],
      "text/plain": [
       "Balanced Accuracy \n",
       "        0.7163507 "
      ]
     },
     "metadata": {},
     "output_type": "display_data"
    }
   ],
   "source": [
    "train1 = train[train$target == \"1\",]\n",
    "train0 = train[train$target == '0',]\n",
    "n1 = nrow(train1)\n",
    "n0 = nrow(train0)\n",
    "train11 = train1[sample(1:n1,n0, replace = TRUE),]\n",
    "train_over = rbind(train11,train0)\n",
    "model_over = ranger(target~., data = train_over)\n",
    "pred_over = predict(model_over, data = test)$predictions\n",
    "cm_over=confusionMatrix(pred_over, test$target, positive=\"1\")\n",
    "cm_over$overall[1]\n",
    "cm_over$byClass[11]"
   ]
  },
  {
   "cell_type": "markdown",
   "metadata": {},
   "source": [
    "## Question 8"
   ]
  },
  {
   "cell_type": "code",
   "execution_count": 10,
   "metadata": {},
   "outputs": [],
   "source": [
    "Quick_Bal = function(x, undersampling = TRUE)\n",
    "{\n",
    "  library(ranger)\n",
    "  library(caret)\n",
    "  if(undersampling == TRUE)\n",
    "  {\n",
    "    splitIndex <- createDataPartition(a18$target, p = .70, list = FALSE, times = 1)\n",
    "    train <- x[ splitIndex,]\n",
    "    test <- x[-splitIndex,]\n",
    "    train1 = train[train$target == \"1\",]\n",
    "    train0 = train[train$target == '0',]\n",
    "    n1 = nrow(train1)\n",
    "    n0 = nrow(train0)\n",
    "    train00 = train0[sample(1:n0,n1),]\n",
    "    train_under = rbind(train00, train1)\n",
    "    return(train_under)\n",
    "  }\n",
    "  if(undersampling == FALSE)\n",
    "  {\n",
    "    splitIndex <- createDataPartition(a18$target, p = .70, list = FALSE, times = 1)\n",
    "    train <- x[ splitIndex,]\n",
    "    test <- x[-splitIndex,]\n",
    "    train1 = train[train$target == \"1\",]\n",
    "    train0 = train[train$target == '0',]\n",
    "    n1 = nrow(train1)\n",
    "    n0 = nrow(train0)\n",
    "    train11 = train1[sample(1:n1,n0, replace = TRUE),]\n",
    "    train_over = rbind(train11,train0)\n",
    "    return(train_over)\n",
    "  }\n",
    "}"
   ]
  },
  {
   "cell_type": "markdown",
   "metadata": {},
   "source": [
    "## Question 9"
   ]
  },
  {
   "cell_type": "code",
   "execution_count": 11,
   "metadata": {},
   "outputs": [],
   "source": [
    "Quick_Model_Bal = function(x)\n",
    "{\n",
    "  library(ranger)\n",
    "  library(caret)\n",
    "  splitIndex <- createDataPartition(a18$target, p = .70, list = FALSE, times = 1)\n",
    "  \n",
    "  train1 = train[train$target == \"1\",]\n",
    "  train0 = train[train$target == '0',]\n",
    "  n1 = nrow(train1)\n",
    "  n0 = nrow(train0)\n",
    "  train00 = train0[sample(1:n0,n1),]\n",
    "  train_under = rbind(train00, train1)\n",
    "  model_under = ranger(target~., data = train_under)\n",
    "  pred_under = predict(model_under, data = test)$predictions\n",
    "  cm_under=confusionMatrix(pred_under, test$target, positive=\"1\")\n",
    "  print(\"Undersampling Method\")\n",
    "  print(cm_under$overall[1])\n",
    "  print(cm_under$byClass[11])\n",
    "  \n",
    "  train1 = train[train$target == \"1\",]\n",
    "  train0 = train[train$target == '0',]\n",
    "  n1 = nrow(train1)\n",
    "  n0 = nrow(train0)\n",
    "  train11 = train1[sample(1:n1,n0, replace = TRUE),]\n",
    "  train_over = rbind(train11,train0)\n",
    "  model_over = ranger(target~., data = train_over)\n",
    "  pred_over = predict(model_over, data = test)$predictions\n",
    "  cm_over=confusionMatrix(pred_over, test$target, positive=\"1\")\n",
    "  print(\"Oversampling Method\")\n",
    "  print(cm_over$overall[1])\n",
    "  print(cm_over$byClass[11])\n",
    "}"
   ]
  }
 ],
 "metadata": {
  "kernelspec": {
   "display_name": "R",
   "language": "R",
   "name": "ir"
  },
  "language_info": {
   "codemirror_mode": "r",
   "file_extension": ".r",
   "mimetype": "text/x-r-source",
   "name": "R",
   "pygments_lexer": "r",
   "version": "3.5.1"
  }
 },
 "nbformat": 4,
 "nbformat_minor": 2
}
