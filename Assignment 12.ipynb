{
 "cells": [
  {
   "cell_type": "markdown",
   "metadata": {},
   "source": [
    "# Assignment 12"
   ]
  },
  {
   "cell_type": "markdown",
   "metadata": {},
   "source": [
    "## Adult Dataset"
   ]
  },
  {
   "cell_type": "markdown",
   "metadata": {},
   "source": [
    "### Question 1"
   ]
  },
  {
   "cell_type": "code",
   "execution_count": null,
   "metadata": {},
   "outputs": [],
   "source": [
    "library(readr)\n",
    "library(caret)\n",
    "library(ranger)\n",
    "library(glmnet)\n",
    "a12 = read.csv(\"~/Fall Semester 2018/Statistical Analysis with R/Assignments/Assignment 11/adult (1).csv\", header=FALSE, na.strings = c(\" ?\", \"NA\", \".\"))\n",
    "names(a12) = c(\"Age\", \"WorkingClass\", \"FinalWeight\", \"Education\", \"Ed\", \"MaritalStatus\", \"Occupation\", \"Relationship\", \"Race\", \"Sex\", \"Gains\", \"Losses\", \"AvgHrsWeek\", \"Country\", \"target\")\n",
    "for(i in 1:ncol(a12)) \n",
    "    {\n",
    "    a12[a12 ==\" ?\"]= NA  \n",
    "    missval <- sum(is.na(a12[i]))\n",
    "    if(missval > 0)\n",
    "      {\n",
    "      if(is.numeric(a12[[i]]) == FALSE) \n",
    "        {\n",
    "        levels=unique(a12[,i])\n",
    "        a12[,i][is.na(a12[,i])]=levels[which.max(tabulate(match(a12[,i], x = levels)))]\n",
    "      }\n",
    "      else\n",
    "      {\n",
    "        a12 <- preProcess(a12, method='medianImpute')\n",
    "      }\n",
    "    }\n",
    "}\n",
    "levels(a12$Country) = c(\"A\", \"N\", \"A\", \"S\", \"I\", \"I\", \"S\", \"S\", \"E\", \"E\", \"E\",\"E\", \"S\", \"I\", \"E\", \"S\", \"A\", \"E\", \"A\", \"A\", \"A\", \"E\", \"E\", \"I\", \"A\", \"A\", \"N\", \"S\", \"I\", \"S\", \"A\", \"E\", \"E\", \"I\", \"E\", \"I\", \"A\", \"A\", \"I\", \"N\", \"A\", \"E\")\n",
    "levels(a12$Education) = c(\"HS\", \"HS\", \"HS\", \"ES\", \"ES\", \"ES\", \"HS\", \"A\", \"A\", \"U\", \"G\", \"HS\", \"G\", \"ES\", \"U\", \"A\")\n",
    "levels(a12$Occupation) = c(\"A\", \"A\", \"A\", \"B\", \"B\", \"B\", \"C\", \"C\", \"C\", \"D\", \"D\", \"D\", \"E\", \"E\")"
   ]
  },
  {
   "cell_type": "markdown",
   "metadata": {},
   "source": [
    "### Question 2"
   ]
  },
  {
   "cell_type": "code",
   "execution_count": null,
   "metadata": {},
   "outputs": [],
   "source": [
    "myGrid7 = expand.grid(mtry = 2, splitrule = c(\"gini\"), min.node.size = c(1:3))\n",
    "model7 = train(target~., a12, method = \"ranger\", trControl = trainControl(method = \"cv\", number = 7, verboseIter = TRUE), tuneGrid = myGrid7)\n",
    "model7"
   ]
  },
  {
   "cell_type": "markdown",
   "metadata": {},
   "source": [
    "### Question 3"
   ]
  },
  {
   "cell_type": "code",
   "execution_count": null,
   "metadata": {},
   "outputs": [],
   "source": [
    "myGrid10 = expand.grid(mtry = 2, splitrule = c(\"gini\"), min.node.size = c(1:3))\n",
    "model10 = train(target~., a12, method = \"ranger\", trControl = trainControl(method = \"cv\", number = 10, verboseIter = TRUE), tuneGrid = myGrid10)\n",
    "plot(model10)\n",
    "model10"
   ]
  },
  {
   "cell_type": "markdown",
   "metadata": {},
   "source": [
    "### Question 4"
   ]
  },
  {
   "cell_type": "code",
   "execution_count": null,
   "metadata": {},
   "outputs": [],
   "source": [
    "#mtry = 2, splitrule = \"gini\", min.nod.size = 1 to 3"
   ]
  },
  {
   "cell_type": "markdown",
   "metadata": {},
   "source": [
    "### Question 5"
   ]
  },
  {
   "cell_type": "code",
   "execution_count": null,
   "metadata": {},
   "outputs": [],
   "source": [
    "plot(model7)"
   ]
  },
  {
   "cell_type": "markdown",
   "metadata": {},
   "source": [
    "### Question 6"
   ]
  },
  {
   "cell_type": "code",
   "execution_count": null,
   "metadata": {},
   "outputs": [],
   "source": [
    "#myGridmax = expand.grid(mtry = c(1:(ncol(a12)-1)), splitrule = c(\"gini\", \"extratrees\"), min.node.size = c(1:20))\n",
    "#modelmax = train(target~., a12, method = \"ranger\", trControl = trainControl(method = \"cv\", number = 7, verboseIter = TRUE), tuneGrid = myGridmax)\n",
    "#Code above takes too long to run. Same code was used for titanic dataset"
   ]
  },
  {
   "cell_type": "markdown",
   "metadata": {},
   "source": [
    "### Question 7"
   ]
  },
  {
   "cell_type": "code",
   "execution_count": null,
   "metadata": {},
   "outputs": [],
   "source": [
    "#modelmax\n",
    "#plot(modelmax)\n",
    "#Cannot print because question 6 will not run"
   ]
  },
  {
   "cell_type": "markdown",
   "metadata": {},
   "source": [
    "### Question 8"
   ]
  },
  {
   "cell_type": "code",
   "execution_count": null,
   "metadata": {},
   "outputs": [],
   "source": [
    "myGridglm = expand.grid(alpha = 0:1, lambda = seq(0.0001, 0.1, length = 10))\n",
    "myControl = trainControl(method = \"cv\", number = 7)\n",
    "glmdef = train(target~., a12, method = \"glmnet\")\n",
    "glmtuned = train(target~., a12, method =\"glmnet\",tuneGrid = myGridglm, trControl = myControl)\n",
    "max(glmtuned$results$Accuracy) > max(glmdef$results$Accuracy)\n",
    "max(glmtuned$results$Accuracy)\n",
    "max(glmdef$results$Accuracy)"
   ]
  },
  {
   "cell_type": "markdown",
   "metadata": {},
   "source": [
    "## Titanic Dataset"
   ]
  },
  {
   "cell_type": "markdown",
   "metadata": {},
   "source": [
    "### Question 1"
   ]
  },
  {
   "cell_type": "code",
   "execution_count": null,
   "metadata": {},
   "outputs": [],
   "source": [
    "a12t = read.csv(\"~/Fall Semester 2018/Statistical Analysis with R/Assignments/Assignment 12/Titanic Data.csv\", header=TRUE)\n",
    "a12t$PassengerId = NULL\n",
    "a12t$Ticket = NULL\n",
    "a12t$Name = NULL\n",
    "a12t$Cabin = NULL\n",
    "for(i in 1:ncol(a12t)) \n",
    "    {\n",
    "    missval <- sum(is.na(a12t[i]))\n",
    "    if(missval > 0)\n",
    "      {\n",
    "      if(is.numeric(a12t[[i]]) == FALSE) \n",
    "        {\n",
    "        levels=unique(a12t[,i])\n",
    "        a12t[,i][is.na(a12t[,i])]=levels[which.max(tabulate(match(a12t[,i], x = levels)))]\n",
    "      }\n",
    "      else\n",
    "      {\n",
    "        a12t[[i]][is.na(a12t[[i]])] <- mean(a12t[[i]], na.rm = TRUE)\n",
    "      }\n",
    "    }\n",
    "}\n",
    "a12t$Survived = factor(a12t$Survived)"
   ]
  },
  {
   "cell_type": "markdown",
   "metadata": {},
   "source": [
    "### Question 2"
   ]
  },
  {
   "cell_type": "code",
   "execution_count": null,
   "metadata": {},
   "outputs": [],
   "source": [
    "myGrid7t = expand.grid(mtry = 2, splitrule = c(\"gini\"), min.node.size = c(1:3))\n",
    "model7t = train(Survived~., a12t, method = \"ranger\", trControl = trainControl(method = \"cv\", number = 7, verboseIter = TRUE), tuneGrid = myGrid7t)"
   ]
  },
  {
   "cell_type": "markdown",
   "metadata": {},
   "source": [
    "### Question 3"
   ]
  },
  {
   "cell_type": "code",
   "execution_count": null,
   "metadata": {},
   "outputs": [],
   "source": [
    "myGrid10t = expand.grid(mtry = 2, splitrule = c(\"gini\"), min.node.size = c(1:3))\n",
    "model10t = train(Survived~., a12t, method = \"ranger\", trControl = trainControl(method = \"cv\", number = 10, verboseIter = TRUE), tuneGrid = myGrid10t)\n",
    "plot(model10t)\n",
    "model10t"
   ]
  },
  {
   "cell_type": "markdown",
   "metadata": {},
   "source": [
    "### Question 4"
   ]
  },
  {
   "cell_type": "code",
   "execution_count": null,
   "metadata": {},
   "outputs": [],
   "source": [
    "#mtry = 2, splitrule = \"gini\", min.mode.size = 1 to 3"
   ]
  },
  {
   "cell_type": "markdown",
   "metadata": {},
   "source": [
    "### Question 5"
   ]
  },
  {
   "cell_type": "code",
   "execution_count": null,
   "metadata": {},
   "outputs": [],
   "source": [
    "plot(model7t)"
   ]
  },
  {
   "cell_type": "markdown",
   "metadata": {},
   "source": [
    "### Question 6"
   ]
  },
  {
   "cell_type": "code",
   "execution_count": null,
   "metadata": {},
   "outputs": [],
   "source": [
    "myGridmaxt = expand.grid(mtry = c(1:(ncol(a12t)-1)), splitrule = c(\"gini\", \"extratrees\"), min.node.size = c(1:5))\n",
    "modelmaxt = train(Survived~., a12t, method = \"ranger\", trControl = trainControl(method = \"cv\", number = 7, verboseIter = FALSE), tuneGrid = myGridmaxt)"
   ]
  },
  {
   "cell_type": "markdown",
   "metadata": {},
   "source": [
    "### Question 7"
   ]
  },
  {
   "cell_type": "code",
   "execution_count": null,
   "metadata": {},
   "outputs": [],
   "source": [
    "modelmaxt\n",
    "plot(modelmaxt)"
   ]
  },
  {
   "cell_type": "markdown",
   "metadata": {},
   "source": [
    "### Question 8"
   ]
  },
  {
   "cell_type": "code",
   "execution_count": null,
   "metadata": {},
   "outputs": [],
   "source": [
    "myGridglmt = expand.grid(alpha = 0:1, lambda = seq(0.0001, 0.1, length = 10))\n",
    "myControlt = trainControl(method = \"cv\", number = 7)\n",
    "glmdeft = train(Survived~., a12t, method = \"glmnet\")\n",
    "glmtunedt = train(Survived~., a12t, method =\"glmnet\",tuneGrid = myGridglmt, trControl = myControlt)\n",
    "max(glmtunedt$results$Accuracy) > max(glmdeft$results$Accuracy)\n",
    "max(glmtunedt$results$Accuracy)\n",
    "max(glmdeft$results$Accuracy)"
   ]
  }
 ],
 "metadata": {
  "kernelspec": {
   "display_name": "R",
   "language": "R",
   "name": "ir"
  },
  "language_info": {
   "codemirror_mode": "r",
   "file_extension": ".r",
   "mimetype": "text/x-r-source",
   "name": "R",
   "pygments_lexer": "r",
   "version": "3.5.1"
  }
 },
 "nbformat": 4,
 "nbformat_minor": 2
}
