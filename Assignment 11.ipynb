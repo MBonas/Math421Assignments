{
 "cells": [
  {
   "cell_type": "markdown",
   "metadata": {},
   "source": [
    "# Assignment 11"
   ]
  },
  {
   "cell_type": "markdown",
   "metadata": {},
   "source": [
    "### Question 1"
   ]
  },
  {
   "cell_type": "code",
   "execution_count": 2,
   "metadata": {},
   "outputs": [
    {
     "name": "stderr",
     "output_type": "stream",
     "text": [
      "Rattle: A free graphical interface for data science with R.\n",
      "Version 5.2.0 Copyright (c) 2006-2018 Togaware Pty Ltd.\n",
      "Type 'rattle()' to shake, rattle, and roll your data.\n",
      "Loading required package: lattice\n",
      "Loading required package: ggplot2\n",
      "\n",
      "Attaching package: 'ranger'\n",
      "\n",
      "The following object is masked from 'package:rattle':\n",
      "\n",
      "    importance\n",
      "\n"
     ]
    }
   ],
   "source": [
    "library(readr)\n",
    "library(rpart)\n",
    "library(rattle)\n",
    "library(caret)\n",
    "library(ranger)\n",
    "library(e1071)\n",
    "a11 = read.csv(\"~/Fall Semester 2018/Statistical Analysis with R/Assignments/Assignment 11/adult (1).csv\", header=FALSE, na.strings = c(\" ?\", \"NA\", \".\"))\n",
    "names(a11) = c(\"Age\", \"WorkingClass\", \"FinalWeight\", \"Education\", \"Ed\", \"MaritalStatus\", \"Occupation\", \"Relationship\", \"Race\", \"Sex\", \"Gains\", \"Losses\", \"AvgHrsWeek\", \"Country\", \"target\")"
   ]
  },
  {
   "cell_type": "markdown",
   "metadata": {},
   "source": [
    "### Question 2-3"
   ]
  },
  {
   "cell_type": "code",
   "execution_count": 3,
   "metadata": {},
   "outputs": [],
   "source": [
    "for(i in 1:ncol(a11)) \n",
    "    {\n",
    "    a11[a11 ==\" ?\"]= NA  \n",
    "    missval <- sum(is.na(a11[i]))\n",
    "    if(missval > 0)\n",
    "      {\n",
    "      if(is.numeric(a11[[i]]) == FALSE) \n",
    "        {\n",
    "        levels=unique(a11[,i])\n",
    "        a11[,i][is.na(a11[,i])]=levels[which.max(tabulate(match(a11[,i], x = levels)))]\n",
    "      }\n",
    "      else\n",
    "      {\n",
    "        a11 <- preProcess(a11, method='medianImpute')\n",
    "      }\n",
    "    }\n",
    "}"
   ]
  },
  {
   "cell_type": "markdown",
   "metadata": {},
   "source": [
    "### Question 4"
   ]
  },
  {
   "cell_type": "code",
   "execution_count": 15,
   "metadata": {},
   "outputs": [],
   "source": [
    "levels(a11$Country) = c(\"A\", \"N\", \"A\", \"S\", \"I\", \"I\", \"S\", \"S\", \"E\", \"E\", \"E\",\"E\", \"S\", \"I\", \"E\", \"S\", \"A\", \"E\", \"A\", \"A\", \"A\", \"E\", \"E\", \"I\", \"A\", \"A\", \"N\", \"S\", \"I\", \"S\", \"A\", \"E\", \"E\", \"I\", \"E\", \"I\", \"A\", \"A\", \"I\", \"N\", \"A\", \"E\")\n",
    "levels(a11$Education) = c(\"HS\", \"HS\", \"HS\", \"ES\", \"ES\", \"ES\", \"HS\", \"A\", \"A\", \"U\", \"G\", \"HS\", \"G\", \"ES\", \"U\", \"A\")\n",
    "levels(a11$Occupation) = c(\"A\", \"A\", \"A\", \"B\", \"B\", \"B\", \"C\", \"C\", \"C\", \"D\", \"D\", \"D\", \"E\", \"E\")"
   ]
  },
  {
   "cell_type": "markdown",
   "metadata": {},
   "source": [
    "### Question 5-6"
   ]
  },
  {
   "cell_type": "code",
   "execution_count": 16,
   "metadata": {},
   "outputs": [],
   "source": [
    "dummies_a11 <- dummyVars(target ~ ., data=a11)\n",
    "a11cs <- preProcess(a11, method= c(\"center\", \"scale\"))"
   ]
  },
  {
   "cell_type": "markdown",
   "metadata": {},
   "source": [
    "### Question 7"
   ]
  },
  {
   "cell_type": "code",
   "execution_count": 18,
   "metadata": {},
   "outputs": [
    {
     "data": {
      "text/html": [
       "<strong>Accuracy:</strong> 0.845618345618346"
      ],
      "text/latex": [
       "\\textbf{Accuracy:} 0.845618345618346"
      ],
      "text/markdown": [
       "**Accuracy:** 0.845618345618346"
      ],
      "text/plain": [
       " Accuracy \n",
       "0.8456183 "
      ]
     },
     "metadata": {},
     "output_type": "display_data"
    },
    {
     "data": {
      "text/html": [
       "<strong>Balanced Accuracy:</strong> 0.741406473592673"
      ],
      "text/latex": [
       "\\textbf{Balanced Accuracy:} 0.741406473592673"
      ],
      "text/markdown": [
       "**Balanced Accuracy:** 0.741406473592673"
      ],
      "text/plain": [
       "Balanced Accuracy \n",
       "        0.7414065 "
      ]
     },
     "metadata": {},
     "output_type": "display_data"
    },
    {
     "data": {
      "image/png": "[encoded data removed]",
      "text/plain": [
       "Plot with title \"\""
      ]
     },
     "metadata": {},
     "output_type": "display_data",
     "source": "R display func"
    }
   ],
   "source": [
    "set.seed(2018)\n",
    "splitIndex <- createDataPartition(a11$target, p = .70, list = FALSE, times = 1)\n",
    "train <- a11[ splitIndex,]\n",
    "test <- a11[-splitIndex,]\n",
    "mytree <- rpart(target ~ ., data = train, method = \"class\")\n",
    "fancyRpartPlot(mytree)\n",
    "pred <- predict(mytree,test, type = \"class\")\n",
    "cm=confusionMatrix(pred,test$target, positive = \" >50K\")\n",
    "cm$overall[\"Accuracy\"]\n",
    "cm$byClass[\"Balanced Accuracy\"]"
   ]
  },
  {
   "cell_type": "markdown",
   "metadata": {},
   "source": [
    "### Question 8"
   ]
  },
  {
   "cell_type": "code",
   "execution_count": 20,
   "metadata": {},
   "outputs": [
    {
     "data": {
      "text/html": [
       "<strong>Accuracy:</strong> 0.858415233415233"
      ],
      "text/latex": [
       "\\textbf{Accuracy:} 0.858415233415233"
      ],
      "text/markdown": [
       "**Accuracy:** 0.858415233415233"
      ],
      "text/plain": [
       " Accuracy \n",
       "0.8584152 "
      ]
     },
     "metadata": {},
     "output_type": "display_data"
    },
    {
     "data": {
      "text/html": [
       "<strong>Balanced Accuracy:</strong> 0.775092601765625"
      ],
      "text/latex": [
       "\\textbf{Balanced Accuracy:} 0.775092601765625"
      ],
      "text/markdown": [
       "**Balanced Accuracy:** 0.775092601765625"
      ],
      "text/plain": [
       "Balanced Accuracy \n",
       "        0.7750926 "
      ]
     },
     "metadata": {},
     "output_type": "display_data"
    }
   ],
   "source": [
    "model = ranger(target ~., data = train)\n",
    "pred3  = predict(model, data = test)$predictions\n",
    "levels(test$target) = c(\"0\", \"1\")\n",
    "levels(pred3) = c(\"0\", \"1\")\n",
    "cm3=confusionMatrix(pred3, test$target, positive=\"1\")\n",
    "cm3$overall[\"Accuracy\"]\n",
    "cm3$byClass[\"Balanced Accuracy\"]"
   ]
  },
  {
   "cell_type": "markdown",
   "metadata": {},
   "source": [
    "### Question 9"
   ]
  },
  {
   "cell_type": "code",
   "execution_count": 23,
   "metadata": {},
   "outputs": [
    {
     "data": {
      "text/html": [
       "<strong>Accuracy:</strong> 0.845618345618346"
      ],
      "text/latex": [
       "\\textbf{Accuracy:} 0.845618345618346"
      ],
      "text/markdown": [
       "**Accuracy:** 0.845618345618346"
      ],
      "text/plain": [
       " Accuracy \n",
       "0.8456183 "
      ]
     },
     "metadata": {},
     "output_type": "display_data"
    },
    {
     "data": {
      "text/html": [
       "<strong>Balanced Accuracy:</strong> 0.741406473592673"
      ],
      "text/latex": [
       "\\textbf{Balanced Accuracy:} 0.741406473592673"
      ],
      "text/markdown": [
       "**Balanced Accuracy:** 0.741406473592673"
      ],
      "text/plain": [
       "Balanced Accuracy \n",
       "        0.7414065 "
      ]
     },
     "metadata": {},
     "output_type": "display_data"
    },
    {
     "data": {
      "text/html": [
       "<strong>Accuracy:</strong> 0.858415233415233"
      ],
      "text/latex": [
       "\\textbf{Accuracy:} 0.858415233415233"
      ],
      "text/markdown": [
       "**Accuracy:** 0.858415233415233"
      ],
      "text/plain": [
       " Accuracy \n",
       "0.8584152 "
      ]
     },
     "metadata": {},
     "output_type": "display_data"
    },
    {
     "data": {
      "text/html": [
       "<strong>Balanced Accuracy:</strong> 0.775092601765625"
      ],
      "text/latex": [
       "\\textbf{Balanced Accuracy:} 0.775092601765625"
      ],
      "text/markdown": [
       "**Balanced Accuracy:** 0.775092601765625"
      ],
      "text/plain": [
       "Balanced Accuracy \n",
       "        0.7750926 "
      ]
     },
     "metadata": {},
     "output_type": "display_data"
    },
    {
     "data": {
      "image/png": "[encoded data removed]",
      "text/plain": [
       "Plot with title \"\""
      ]
     },
     "metadata": {},
     "output_type": "display_data",
     "source": "R display func"
    }
   ],
   "source": [
    "a119 = read.csv(\"~/Fall Semester 2018/Statistical Analysis with R/Assignments/Assignment 11/adult (1).csv\", header=FALSE, na.strings = c(\" ?\", \"NA\", \".\"))\n",
    "names(a119) = c(\"Age\", \"WorkingClass\", \"FinalWeight\", \"Education\", \"Ed\", \"MaritalStatus\", \"Occupation\", \"Relationship\", \"Race\", \"Sex\", \"Gains\", \"Losses\", \"AvgHrsWeek\", \"Country\", \"target\")\n",
    "for(i in 1:ncol(a119)) \n",
    "    {\n",
    "    a119[a119 ==\" ?\"]= NA  \n",
    "    missval <- sum(is.na(a119[i]))\n",
    "    if(missval > 0)\n",
    "      {\n",
    "      if(is.numeric(a119[[i]]) == FALSE) \n",
    "        {\n",
    "        levels=unique(a119[,i])\n",
    "        a119[,i][is.na(a119[,i])]=levels[which.max(tabulate(match(a119[,i], x = levels)))]\n",
    "      }\n",
    "      else\n",
    "      {\n",
    "        a119[[i]][is.na(a119[[i]])] <- mean(a119[[i]], na.rm = TRUE)\n",
    "      }\n",
    "    }\n",
    "}\n",
    "levels(a119$Country) = c(\"A\", \"N\", \"A\", \"S\", \"I\", \"I\", \"S\", \"S\", \"E\", \"E\", \"E\",\"E\", \"S\", \"I\", \"E\", \"S\", \"A\", \"E\", \"A\", \"A\", \"A\", \"E\", \"E\", \"I\", \"A\", \"A\", \"N\", \"S\", \"I\", \"S\", \"A\", \"E\", \"E\", \"I\", \"E\", \"I\", \"A\", \"A\", \"I\", \"N\", \"A\", \"E\")\n",
    "levels(a119$Education) = c(\"HS\", \"HS\", \"HS\", \"ES\", \"ES\", \"ES\", \"HS\", \"A\", \"A\", \"U\", \"G\", \"HS\", \"G\", \"ES\", \"U\", \"A\")\n",
    "levels(a119$Occupation) = c(\"A\", \"A\", \"A\", \"B\", \"B\", \"B\", \"C\", \"C\", \"C\", \"D\", \"D\", \"D\", \"E\", \"E\")\n",
    "set.seed(2018)\n",
    "splitIndex9 <- createDataPartition(a119$target, p = .70, list = FALSE, times = 1)\n",
    "train9 <- a119[ splitIndex9,]\n",
    "test9 <- a119[-splitIndex9,]\n",
    "mytree9 <- rpart(target ~ ., data = train9, method = \"class\")\n",
    "fancyRpartPlot(mytree9)\n",
    "pred9 <- predict(mytree9,test9, type = \"class\")\n",
    "cm9=confusionMatrix(pred9,test9$target, positive = \" >50K\")\n",
    "cm9$overall[\"Accuracy\"]\n",
    "cm9$byClass[\"Balanced Accuracy\"]\n",
    "model9 = ranger(target ~., data = train9)\n",
    "pred39  = predict(model9, data = test9)$predictions\n",
    "levels(test9$target) = c(\"0\", \"1\")\n",
    "levels(pred39) = c(\"0\", \"1\")\n",
    "cm39=confusionMatrix(pred39, test9$target, positive=\"1\")\n",
    "cm39$overall[\"Accuracy\"]\n",
    "cm39$byClass[\"Balanced Accuracy\"]"
   ]
  },
  {
   "cell_type": "markdown",
   "metadata": {},
   "source": [
    "### Question 10"
   ]
  },
  {
   "cell_type": "code",
   "execution_count": 25,
   "metadata": {},
   "outputs": [
    {
     "data": {
      "text/html": [
       "<strong>Accuracy:</strong> 0.845618345618346"
      ],
      "text/latex": [
       "\\textbf{Accuracy:} 0.845618345618346"
      ],
      "text/markdown": [
       "**Accuracy:** 0.845618345618346"
      ],
      "text/plain": [
       " Accuracy \n",
       "0.8456183 "
      ]
     },
     "metadata": {},
     "output_type": "display_data"
    },
    {
     "data": {
      "text/html": [
       "<strong>Balanced Accuracy:</strong> 0.741406473592673"
      ],
      "text/latex": [
       "\\textbf{Balanced Accuracy:} 0.741406473592673"
      ],
      "text/markdown": [
       "**Balanced Accuracy:** 0.741406473592673"
      ],
      "text/plain": [
       "Balanced Accuracy \n",
       "        0.7414065 "
      ]
     },
     "metadata": {},
     "output_type": "display_data"
    },
    {
     "data": {
      "text/html": [
       "<strong>Accuracy:</strong> 0.858415233415233"
      ],
      "text/latex": [
       "\\textbf{Accuracy:} 0.858415233415233"
      ],
      "text/markdown": [
       "**Accuracy:** 0.858415233415233"
      ],
      "text/plain": [
       " Accuracy \n",
       "0.8584152 "
      ]
     },
     "metadata": {},
     "output_type": "display_data"
    },
    {
     "data": {
      "text/html": [
       "<strong>Balanced Accuracy:</strong> 0.775092601765625"
      ],
      "text/latex": [
       "\\textbf{Balanced Accuracy:} 0.775092601765625"
      ],
      "text/markdown": [
       "**Balanced Accuracy:** 0.775092601765625"
      ],
      "text/plain": [
       "Balanced Accuracy \n",
       "        0.7750926 "
      ]
     },
     "metadata": {},
     "output_type": "display_data"
    },
    {
     "data": {
      "image/png": "[encoded data removed]",
      "text/plain": [
       "Plot with title \"\""
      ]
     },
     "metadata": {},
     "output_type": "display_data",
     "source": "R display func"
    }
   ],
   "source": [
    "a119 = read.csv(\"~/Fall Semester 2018/Statistical Analysis with R/Assignments/Assignment 11/adult (1).csv\", header=FALSE, na.strings = c(\" ?\", \"NA\", \".\"))\n",
    "names(a119) = c(\"Age\", \"WorkingClass\", \"FinalWeight\", \"Education\", \"Ed\", \"MaritalStatus\", \"Occupation\", \"Relationship\", \"Race\", \"Sex\", \"Gains\", \"Losses\", \"AvgHrsWeek\", \"Country\", \"target\")\n",
    "for(i in 1:ncol(a119)) \n",
    "    {\n",
    "    a119[a119 ==\" ?\"]= NA  \n",
    "    missval <- sum(is.na(a119[i]))\n",
    "    if(missval > 0)\n",
    "      {\n",
    "      if(is.numeric(a119[[i]]) == FALSE) \n",
    "        {\n",
    "        levels=unique(a119[,i])\n",
    "        a119[,i][is.na(a119[,i])]=levels[which.max(tabulate(match(a119[,i], x = levels)))]\n",
    "      }\n",
    "      else\n",
    "      {\n",
    "        a119 <- preProcess(a119, method='knnImpute')\n",
    "      }\n",
    "    }\n",
    "}\n",
    "levels(a119$Country) = c(\"A\", \"N\", \"A\", \"S\", \"I\", \"I\", \"S\", \"S\", \"E\", \"E\", \"E\",\"E\", \"S\", \"I\", \"E\", \"S\", \"A\", \"E\", \"A\", \"A\", \"A\", \"E\", \"E\", \"I\", \"A\", \"A\", \"N\", \"S\", \"I\", \"S\", \"A\", \"E\", \"E\", \"I\", \"E\", \"I\", \"A\", \"A\", \"I\", \"N\", \"A\", \"E\")\n",
    "levels(a119$Education) = c(\"HS\", \"HS\", \"HS\", \"ES\", \"ES\", \"ES\", \"HS\", \"A\", \"A\", \"U\", \"G\", \"HS\", \"G\", \"ES\", \"U\", \"A\")\n",
    "levels(a119$Occupation) = c(\"A\", \"A\", \"A\", \"B\", \"B\", \"B\", \"C\", \"C\", \"C\", \"D\", \"D\", \"D\", \"E\", \"E\")\n",
    "set.seed(2018)\n",
    "splitIndex9 <- createDataPartition(a119$target, p = .70, list = FALSE, times = 1)\n",
    "train9 <- a119[ splitIndex9,]\n",
    "test9 <- a119[-splitIndex9,]\n",
    "mytree9 <- rpart(target ~ ., data = train9, method = \"class\")\n",
    "fancyRpartPlot(mytree9)\n",
    "pred9 <- predict(mytree9,test9, type = \"class\")\n",
    "cm9=confusionMatrix(pred9,test9$target, positive = \" >50K\")\n",
    "cm9$overall[\"Accuracy\"]\n",
    "cm9$byClass[\"Balanced Accuracy\"]\n",
    "model9 = ranger(target ~., data = train9)\n",
    "pred39  = predict(model9, data = test9)$predictions\n",
    "levels(test9$target) = c(\"0\", \"1\")\n",
    "levels(pred39) = c(\"0\", \"1\")\n",
    "cm39=confusionMatrix(pred39, test9$target, positive=\"1\")\n",
    "cm39$overall[\"Accuracy\"]\n",
    "cm39$byClass[\"Balanced Accuracy\"]"
   ]
  },
  {
   "cell_type": "markdown",
   "metadata": {},
   "source": [
    "### Question 11"
   ]
  },
  {
   "cell_type": "code",
   "execution_count": 4,
   "metadata": {},
   "outputs": [
    {
     "data": {
      "text/html": [
       "<strong>Accuracy:</strong> 0.845618345618346"
      ],
      "text/latex": [
       "\\textbf{Accuracy:} 0.845618345618346"
      ],
      "text/markdown": [
       "**Accuracy:** 0.845618345618346"
      ],
      "text/plain": [
       " Accuracy \n",
       "0.8456183 "
      ]
     },
     "metadata": {},
     "output_type": "display_data"
    },
    {
     "data": {
      "text/html": [
       "<strong>Balanced Accuracy:</strong> 0.741406473592673"
      ],
      "text/latex": [
       "\\textbf{Balanced Accuracy:} 0.741406473592673"
      ],
      "text/markdown": [
       "**Balanced Accuracy:** 0.741406473592673"
      ],
      "text/plain": [
       "Balanced Accuracy \n",
       "        0.7414065 "
      ]
     },
     "metadata": {},
     "output_type": "display_data"
    },
    {
     "data": {
      "text/html": [
       "<strong>Accuracy:</strong> 0.858415233415233"
      ],
      "text/latex": [
       "\\textbf{Accuracy:} 0.858415233415233"
      ],
      "text/markdown": [
       "**Accuracy:** 0.858415233415233"
      ],
      "text/plain": [
       " Accuracy \n",
       "0.8584152 "
      ]
     },
     "metadata": {},
     "output_type": "display_data"
    },
    {
     "data": {
      "text/html": [
       "<strong>Balanced Accuracy:</strong> 0.775092601765625"
      ],
      "text/latex": [
       "\\textbf{Balanced Accuracy:} 0.775092601765625"
      ],
      "text/markdown": [
       "**Balanced Accuracy:** 0.775092601765625"
      ],
      "text/plain": [
       "Balanced Accuracy \n",
       "        0.7750926 "
      ]
     },
     "metadata": {},
     "output_type": "display_data"
    },
    {
     "data": {
      "image/png": "[encoded data removed]",
      "text/plain": [
       "Plot with title \"\""
      ]
     },
     "metadata": {},
     "output_type": "display_data",
     "source": "R display func"
    }
   ],
   "source": [
    "a119 = read.csv (\"~/Fall Semester 2018/Statistical Analysis with R/Assignments/Assignment 11/adult (1).csv\", header=FALSE, na.strings = c(\" ?\", \"NA\", \".\"))\n",
    "names(a119) = c(\"Age\", \"WorkingClass\", \"FinalWeight\", \"Education\", \"Ed\", \"MaritalStatus\", \"Occupation\", \"Relationship\", \"Race\", \"Sex\", \"Gains\", \"Losses\", \"AvgHrsWeek\", \"Country\", \"target\")\n",
    "for(i in 1:ncol(a119)) \n",
    "    {\n",
    "    a119[a119 ==\" ?\"]= NA  \n",
    "    missval <- sum(is.na(a119[i]))\n",
    "    if(missval > 0)\n",
    "      {\n",
    "      if(is.numeric(a119[[i]]) == FALSE) \n",
    "        {\n",
    "        levels=unique(a119[,i])\n",
    "        a119[,i][is.na(a119[,i])]=levels[which.max(tabulate(match(a119[,i], x = levels)))]\n",
    "      }\n",
    "      else\n",
    "      {\n",
    "        a119 <- preProcess(a119, method='medianImpute')\n",
    "      }\n",
    "    }\n",
    "}\n",
    "levels(a119$Country) = c(\"A\", \"N\", \"A\", \"S\", \"I\", \"I\", \"S\", \"S\", \"E\", \"E\", \"E\",\"E\", \"S\", \"I\", \"E\", \"S\", \"A\", \"E\", \"A\", \"A\", \"A\", \"E\", \"E\", \"I\", \"A\", \"A\", \"N\", \"S\", \"I\", \"S\", \"A\", \"E\", \"E\", \"I\", \"E\", \"I\", \"A\", \"A\", \"I\", \"N\", \"A\", \"E\")\n",
    "levels(a119$Education) = c(\"HS\", \"HS\", \"HS\", \"ES\", \"ES\", \"ES\", \"HS\", \"A\", \"A\", \"U\", \"G\", \"HS\", \"G\", \"ES\", \"U\", \"A\")\n",
    "levels(a119$Occupation) = c(\"A\", \"A\", \"A\", \"B\", \"B\", \"B\", \"C\", \"C\", \"C\", \"D\", \"D\", \"D\", \"E\", \"E\")\n",
    "a119cs <- preProcess(a119, method= c(\"center\", \"scale\"))\n",
    "dummies_a11 <- dummyVars(target ~ ., data=a11)\n",
    "set.seed(2018)\n",
    "splitIndex9 <- createDataPartition(a119$target, p = .70, list = FALSE, times = 1)\n",
    "train9 <- a119[ splitIndex9,]\n",
    "test9 <- a119[-splitIndex9,]\n",
    "mytree9 <- rpart(target ~ ., data = train9, method = \"class\")\n",
    "fancyRpartPlot(mytree9)\n",
    "pred9 <- predict(mytree9,test9, type = \"class\")\n",
    "cm9=confusionMatrix(pred9,test9$target, positive = \" >50K\")\n",
    "cm9$overall[\"Accuracy\"]\n",
    "cm9$byClass[\"Balanced Accuracy\"]\n",
    "model9 = ranger(target ~., data = train9)\n",
    "pred39  = predict(model9, data = test9)$predictions\n",
    "levels(test9$target) = c(\"0\", \"1\")\n",
    "levels(pred39) = c(\"0\", \"1\")\n",
    "cm39=confusionMatrix(pred39, test9$target, positive=\"1\")\n",
    "cm39$overall[\"Accuracy\"]\n",
    "cm39$byClass[\"Balanced Accuracy\"]"
   ]
  },
  {
   "cell_type": "markdown",
   "metadata": {},
   "source": [
    "### Question 12"
   ]
  },
  {
   "cell_type": "code",
   "execution_count": 1,
   "metadata": {},
   "outputs": [],
   "source": [
    "#Code runs in RStudio but not in Jupyter Lab"
   ]
  },
  {
   "cell_type": "markdown",
   "metadata": {},
   "source": [
    "### Question 13"
   ]
  },
  {
   "cell_type": "code",
   "execution_count": 5,
   "metadata": {},
   "outputs": [
    {
     "data": {
      "text/html": [
       "<strong>Accuracy:</strong> 0.842444717444717"
      ],
      "text/latex": [
       "\\textbf{Accuracy:} 0.842444717444717"
      ],
      "text/markdown": [
       "**Accuracy:** 0.842444717444717"
      ],
      "text/plain": [
       " Accuracy \n",
       "0.8424447 "
      ]
     },
     "metadata": {},
     "output_type": "display_data"
    },
    {
     "data": {
      "text/html": [
       "<strong>Balanced Accuracy:</strong> 0.729154971049909"
      ],
      "text/latex": [
       "\\textbf{Balanced Accuracy:} 0.729154971049909"
      ],
      "text/markdown": [
       "**Balanced Accuracy:** 0.729154971049909"
      ],
      "text/plain": [
       "Balanced Accuracy \n",
       "         0.729155 "
      ]
     },
     "metadata": {},
     "output_type": "display_data"
    },
    {
     "data": {
      "text/html": [
       "<strong>Accuracy:</strong> 0.861998361998362"
      ],
      "text/latex": [
       "\\textbf{Accuracy:} 0.861998361998362"
      ],
      "text/markdown": [
       "**Accuracy:** 0.861998361998362"
      ],
      "text/plain": [
       " Accuracy \n",
       "0.8619984 "
      ]
     },
     "metadata": {},
     "output_type": "display_data"
    },
    {
     "data": {
      "text/html": [
       "<strong>Balanced Accuracy:</strong> 0.779629813090285"
      ],
      "text/latex": [
       "\\textbf{Balanced Accuracy:} 0.779629813090285"
      ],
      "text/markdown": [
       "**Balanced Accuracy:** 0.779629813090285"
      ],
      "text/plain": [
       "Balanced Accuracy \n",
       "        0.7796298 "
      ]
     },
     "metadata": {},
     "output_type": "display_data"
    },
    {
     "data": {
      "image/png": "[encoded data removed]",
      "text/plain": [
       "Plot with title \"\""
      ]
     },
     "metadata": {},
     "output_type": "display_data",
     "source": "R display func"
    }
   ],
   "source": [
    "a119 = read.csv(\"~/Fall Semester 2018/Statistical Analysis with R/Assignments/Assignment 11/adult (1).csv\", header=FALSE, na.strings = c(\" ?\", \"NA\", \".\"))\n",
    "names(a119) = c(\"Age\", \"WorkingClass\", \"FinalWeight\", \"Education\", \"Ed\", \"MaritalStatus\", \"Occupation\", \"Relationship\", \"Race\", \"Sex\", \"Gains\", \"Losses\", \"AvgHrsWeek\", \"Country\", \"target\")\n",
    "for(i in 1:ncol(a119)) \n",
    "    {\n",
    "    a119[a119 ==\" ?\"]= NA  \n",
    "    missval <- sum(is.na(a119[i]))\n",
    "    if(missval > 0)\n",
    "      {\n",
    "      if(is.numeric(a119[[i]]) == FALSE) \n",
    "        {\n",
    "        levels=unique(a119[,i])\n",
    "        a119[,i][is.na(a119[,i])]=levels[which.max(tabulate(match(a119[,i], x = levels)))]\n",
    "      }\n",
    "      else\n",
    "      {\n",
    "        a119 <- preProcess(a119, method='medianImpute')\n",
    "      }\n",
    "    }\n",
    "}\n",
    "set.seed(2018)\n",
    "splitIndex9 <- createDataPartition(a119$target, p = .70, list = FALSE, times = 1)\n",
    "train9 <- a119[ splitIndex9,]\n",
    "test9 <- a119[-splitIndex9,]\n",
    "mytree9 <- rpart(target ~ ., data = train9, method = \"class\")\n",
    "fancyRpartPlot(mytree9)\n",
    "pred9 <- predict(mytree9,test9, type = \"class\")\n",
    "cm9=confusionMatrix(pred9,test9$target, positive = \" >50K\")\n",
    "cm9$overall[\"Accuracy\"]\n",
    "cm9$byClass[\"Balanced Accuracy\"]\n",
    "model9 = ranger(target ~., data = train9)\n",
    "pred39  = predict(model9, data = test9)$predictions\n",
    "levels(test9$target) = c(\"0\", \"1\")\n",
    "levels(pred39) = c(\"0\", \"1\")\n",
    "cm39=confusionMatrix(pred39, test9$target, positive=\"1\")\n",
    "cm39$overall[\"Accuracy\"]\n",
    "cm39$byClass[\"Balanced Accuracy\"]"
   ]
  }
 ],
 "metadata": {
  "kernelspec": {
   "display_name": "R",
   "language": "R",
   "name": "ir"
  },
  "language_info": {
   "codemirror_mode": "r",
   "file_extension": ".r",
   "mimetype": "text/x-r-source",
   "name": "R",
   "pygments_lexer": "r",
   "version": "3.5.1"
  }
 },
 "nbformat": 4,
 "nbformat_minor": 2
}
