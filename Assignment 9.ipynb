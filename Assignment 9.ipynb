{
 "cells": [
  {
   "cell_type": "markdown",
   "metadata": {},
   "source": [
    "# Assignment 9"
   ]
  },
  {
   "cell_type": "markdown",
   "metadata": {},
   "source": [
    "### Question 1"
   ]
  },
  {
   "cell_type": "code",
   "execution_count": 1,
   "metadata": {},
   "outputs": [],
   "source": [
    "countmiss = function(x)\n",
    "{\n",
    " sum(is.na(x))\n",
    "}\n",
    "q1 = function(x)\n",
    "{\n",
    "  apply(x, 2, countmiss)\n",
    "}"
   ]
  },
  {
   "cell_type": "markdown",
   "metadata": {},
   "source": [
    "### Question 2"
   ]
  },
  {
   "cell_type": "code",
   "execution_count": 3,
   "metadata": {},
   "outputs": [],
   "source": [
    "q2 = function(x)\n",
    "{\n",
    "  for(i in 1:ncol(x))\n",
    "  {\n",
    "    if(sum(is.na(x[i] !=0))) print(names(x[i]))\n",
    "  }\n",
    "}"
   ]
  },
  {
   "cell_type": "markdown",
   "metadata": {},
   "source": [
    "### Question 3"
   ]
  },
  {
   "cell_type": "code",
   "execution_count": 5,
   "metadata": {},
   "outputs": [],
   "source": [
    "q3 = function(x)\n",
    "{\n",
    "   for(i in 1:ncol(x))\n",
    "  {\n",
    "    if(sum(is.na(x[i] !=0))) \n",
    "      {\n",
    "        print(names(x[i]))\n",
    "        print(sum(is.na(x[i])))\n",
    "    }\n",
    "   }  \n",
    "}"
   ]
  },
  {
   "cell_type": "markdown",
   "metadata": {},
   "source": [
    "### Question 4"
   ]
  },
  {
   "cell_type": "code",
   "execution_count": 7,
   "metadata": {},
   "outputs": [],
   "source": [
    "q4 = function(x)\n",
    "{\n",
    "  for(i in 1:ncol(x))\n",
    "  {\n",
    "    if(sum(is.na(x[,i]))!=0 & class(x[[i]]) == \"numeric\")\n",
    "    {\n",
    "      x[,i][is.na(x[,i])] = mean(x[[i]], na.rm = TRUE)\n",
    "      \n",
    "    }\n",
    "    else\n",
    "    {\n",
    "      x[,i][is.na(x[,i])] = which.max(table(x[,i]))\n",
    "    }\n",
    "  }\n",
    "  return(x)\n",
    "}"
   ]
  },
  {
   "cell_type": "markdown",
   "metadata": {},
   "source": [
    "### Question 5"
   ]
  },
  {
   "cell_type": "code",
   "execution_count": 8,
   "metadata": {},
   "outputs": [],
   "source": [
    "q5 = function(x)\n",
    "{\n",
    "  y = NULL\n",
    "  z = NULL\n",
    "  for(i in 1:ncol(x))\n",
    "  {\n",
    "    if((class(x[[i]])) == \"numeric\")\n",
    "    {\n",
    "      y = cbind(y, x[[i]])\n",
    "    }\n",
    "    else\n",
    "    {\n",
    "      z = cbind(z, x[[i]])\n",
    "    }\n",
    "  }\n",
    "}"
   ]
  },
  {
   "cell_type": "markdown",
   "metadata": {},
   "source": [
    "### Question 6"
   ]
  },
  {
   "cell_type": "code",
   "execution_count": 10,
   "metadata": {},
   "outputs": [],
   "source": [
    "q6 = function(x)\n",
    "{\n",
    "  for(i in 1:ncol(x))\n",
    "  {\n",
    "    if((class(x[[i]])) == \"numeric\")\n",
    "    {\n",
    "      print(ggplot(x) + geom_density(mapping = aes(x=x[[i]])))\n",
    "    }\n",
    "  } \n",
    "}"
   ]
  },
  {
   "cell_type": "markdown",
   "metadata": {},
   "source": [
    "### Question 7"
   ]
  },
  {
   "cell_type": "code",
   "execution_count": 11,
   "metadata": {},
   "outputs": [],
   "source": [
    "q7 = function(x)\n",
    "{\n",
    "  for(i in 1:ncol(x))\n",
    "  {\n",
    "    if((class(x[[i]])) == \"factor\")\n",
    "    {\n",
    "      print(ggplot(x) + geom_bar(mapping = aes(x=x[[i]])))\n",
    "    }\n",
    "  } \n",
    "}"
   ]
  },
  {
   "cell_type": "markdown",
   "metadata": {},
   "source": [
    "### Question 8"
   ]
  },
  {
   "cell_type": "code",
   "execution_count": 12,
   "metadata": {},
   "outputs": [],
   "source": [
    "q8 = function(x, i, j)\n",
    "{\n",
    "  {\n",
    "    if((class(x[[i]])) == \"factor\")\n",
    "    {\n",
    "    if((class(x[[j]])) == \"factor\")  \n",
    "    {\n",
    "    print(ggplot(x) + geom_bar(mapping = aes(x=x[[i]], fill=x[[j]]), position = \"dodge\"))\n",
    "      } else {\n",
    "      print(\"The third argument in the function is not a categorical variable\")\n",
    "      }} else {\n",
    "      print(\"The second argument in the function is not a categorical variable\")\n",
    "    }\n",
    "  } \n",
    "}"
   ]
  },
  {
   "cell_type": "markdown",
   "metadata": {},
   "source": [
    "### Question 9"
   ]
  },
  {
   "cell_type": "code",
   "execution_count": 14,
   "metadata": {},
   "outputs": [],
   "source": [
    "q9 = function(x, i, j)\n",
    "{\n",
    "  {\n",
    "    if((class(x[[i]])) == \"numeric\")\n",
    "    {\n",
    "    if((class(x[[j]])) == \"numeric\")  \n",
    "    {\n",
    "    print(ggplot(x) + geom_point(mapping = aes(x=x[[i]], y=x[[j]])))\n",
    "      } else {\n",
    "      print(\"The third argument in the function is not a numeric variable\")\n",
    "      }} else {\n",
    "      print(\"The second argument in the function is not a numeric variable\")\n",
    "    }\n",
    "  } \n",
    "}"
   ]
  },
  {
   "cell_type": "markdown",
   "metadata": {},
   "source": [
    "### Question 10"
   ]
  },
  {
   "cell_type": "code",
   "execution_count": 16,
   "metadata": {},
   "outputs": [],
   "source": [
    "q10 = function(x, i, j)\n",
    "{\n",
    "  {\n",
    "    if((class(x[[i]])) == \"numeric\")\n",
    "    {\n",
    "    if((class(x[[j]])) == \"factor\")  \n",
    "    {\n",
    "    print(ggplot(x) + geom_density(mapping = aes(x=x[[i]])) +   facet_wrap(x[[j]]))\n",
    "      } else {\n",
    "      print(\"The third argument in the function is not a categorical variable\")\n",
    "      }} else {\n",
    "      print(\"The second argument in the function is not a numeric variable\")\n",
    "    }\n",
    "  } \n",
    "}"
   ]
  },
  {
   "cell_type": "markdown",
   "metadata": {},
   "source": [
    "### Question 11"
   ]
  },
  {
   "cell_type": "code",
   "execution_count": 18,
   "metadata": {},
   "outputs": [],
   "source": [
    "q11 = function(x)\n",
    "{\n",
    "  for(i in 1:ncol(x))\n",
    "  {\n",
    "    for(j in 1:ncol(x))\n",
    "    {\n",
    "    if((class(x[[i]])) == \"factor\")\n",
    "    {\n",
    "    if((class(x[[j]])) == \"factor\")  \n",
    "    {\n",
    "    print(ggplot(x) + geom_bar(mapping = aes(x=x[[i]], fill=x[[j]]), position = \"dodge\"))\n",
    "    }\n",
    "   } \n",
    "  }\n",
    "  }\n",
    "}"
   ]
  },
  {
   "cell_type": "markdown",
   "metadata": {},
   "source": [
    "### Question 12"
   ]
  },
  {
   "cell_type": "code",
   "execution_count": 20,
   "metadata": {},
   "outputs": [],
   "source": [
    "#See code for question six above. The code for question six would be able to take a dataset and output all density curves for the variables in that dataset."
   ]
  },
  {
   "cell_type": "markdown",
   "metadata": {},
   "source": [
    "### Question 13"
   ]
  },
  {
   "cell_type": "code",
   "execution_count": 22,
   "metadata": {},
   "outputs": [],
   "source": [
    "q13 = function(x)\n",
    "{\n",
    "    for(i in 1:ncol(x))\n",
    "  {\n",
    "    for(j in 1:ncol(x))\n",
    "    {\n",
    "    if((class(x[[i]])) == \"factor\")\n",
    "    {\n",
    "    if((class(x[[j]])) == \"factor\")  \n",
    "    {\n",
    "    print(ggplot(x) + geom_bar(mapping = aes(x=x[[i]], fill=x[[j]]), position = \"dodge\"))\n",
    "    }\n",
    "   } \n",
    "  }\n",
    "    }\n",
    "   for(i in 1:ncol(x))\n",
    "  {\n",
    "    if((class(x[[i]])) == \"numeric\")\n",
    "    {\n",
    "      print(ggplot(x) + geom_density(mapping = aes(x=x[[i]])))\n",
    "    }\n",
    "   } \n",
    "  for(i in 1:ncol(x))\n",
    "  {\n",
    "    if((class(x[[i]])) == \"factor\")\n",
    "    {\n",
    "      print(ggplot(x) + geom_bar(mapping = aes(x=x[[i]])))\n",
    "    }\n",
    "  }  \n",
    "}"
   ]
  }
 ],
 "metadata": {
  "kernelspec": {
   "display_name": "R",
   "language": "R",
   "name": "ir"
  },
  "language_info": {
   "codemirror_mode": "r",
   "file_extension": ".r",
   "mimetype": "text/x-r-source",
   "name": "R",
   "pygments_lexer": "r",
   "version": "3.5.1"
  }
 },
 "nbformat": 4,
 "nbformat_minor": 2
}
