{
 "cells": [
  {
   "cell_type": "markdown",
   "metadata": {},
   "source": [
    "# Assingment 3"
   ]
  },
  {
   "cell_type": "markdown",
   "metadata": {},
   "source": [
    "## Titanic Dataset"
   ]
  },
  {
   "cell_type": "code",
   "execution_count": 2,
   "metadata": {},
   "outputs": [],
   "source": [
    "library(ggplot2)\n",
    "library(readxl)\n",
    "Titanic_Data <- read_excel(\"~/Fall Semester 2018/Statistical Analysis with R/Assignments/Assignment 12/Titanic Data.xlsx\")\n",
    "a3 = Titanic_Data"
   ]
  },
  {
   "cell_type": "markdown",
   "metadata": {},
   "source": [
    "### Data Cleaning and Manipulation (Questions 1-4)"
   ]
  },
  {
   "cell_type": "code",
   "execution_count": 3,
   "metadata": {},
   "outputs": [
    {
     "data": {
      "text/html": [
       "866"
      ],
      "text/latex": [
       "866"
      ],
      "text/markdown": [
       "866"
      ],
      "text/plain": [
       "[1] 866"
      ]
     },
     "metadata": {},
     "output_type": "display_data"
    }
   ],
   "source": [
    "a3$Survived = factor(a3$Survived)\n",
    "a3$Pclass = factor(a3$Pclass)\n",
    "a3$Sex = factor(a3$Sex)\n",
    "sum(is.na(a3))\n",
    "x = mean(a3$Age, na.rm = TRUE)\n",
    "a3[is.na(a3$Age),]$Age = x\n",
    "a3[,1] = NULL\n",
    "a3[,\"Ticket\"] = NULL\n",
    "a3[,\"Cabin\"] = NULL\n",
    "a3 = na.omit(a3)"
   ]
  },
  {
   "cell_type": "markdown",
   "metadata": {},
   "source": [
    "### Dataset Calculations (Questions 5-10)"
   ]
  },
  {
   "cell_type": "code",
   "execution_count": 4,
   "metadata": {},
   "outputs": [
    {
     "data": {
      "text/html": [
       "29.6534463706743"
      ],
      "text/latex": [
       "29.6534463706743"
      ],
      "text/markdown": [
       "29.6534463706743"
      ],
      "text/plain": [
       "[1] 29.65345"
      ]
     },
     "metadata": {},
     "output_type": "display_data"
    },
    {
     "data": {
      "text/html": [
       "28.0770937028658"
      ],
      "text/latex": [
       "28.0770937028658"
      ],
      "text/markdown": [
       "28.0770937028658"
      ],
      "text/plain": [
       "[1] 28.07709"
      ]
     },
     "metadata": {},
     "output_type": "display_data"
    },
    {
     "data": {
      "text/html": [
       "58.6896"
      ],
      "text/latex": [
       "58.6896"
      ],
      "text/markdown": [
       "58.6896"
      ],
      "text/plain": [
       "[1] 58.6896"
      ]
     },
     "metadata": {},
     "output_type": "display_data"
    },
    {
     "data": {
      "text/html": [
       "30"
      ],
      "text/latex": [
       "30"
      ],
      "text/markdown": [
       "30"
      ],
      "text/plain": [
       "[1] 30"
      ]
     },
     "metadata": {},
     "output_type": "display_data"
    },
    {
     "data": {
      "text/html": [
       "47.511"
      ],
      "text/latex": [
       "47.511"
      ],
      "text/markdown": [
       "47.511"
      ],
      "text/plain": [
       "[1] 47.511"
      ]
     },
     "metadata": {},
     "output_type": "display_data"
    }
   ],
   "source": [
    "mean(a3$Age)\n",
    "mean(a3[a3$Sex == \"female\",]$Age)\n",
    "median(a3[a3$Pclass == \"1\",]$Fare)\n",
    "median(a3[a3$Survived == \"1\" & a3$Sex == \"female\" & a3$Pclass != \"3\",]$Age)\n",
    "mean(a3[a3$Sex == \"female\" & a3$Survived == \"1\" & a3$Age >= \"13\" & a3$Age < \"20\",]$Fare)"
   ]
  },
  {
   "cell_type": "markdown",
   "metadata": {},
   "source": [
    "### Dataset Calculations (Question 11)"
   ]
  },
  {
   "cell_type": "code",
   "execution_count": 5,
   "metadata": {},
   "outputs": [
    {
     "data": {
      "text/html": [
       "107.540707692308"
      ],
      "text/latex": [
       "107.540707692308"
      ],
      "text/markdown": [
       "107.540707692308"
      ],
      "text/plain": [
       "[1] 107.5407"
      ]
     },
     "metadata": {},
     "output_type": "display_data"
    },
    {
     "data": {
      "text/html": [
       "20.6745333333333"
      ],
      "text/latex": [
       "20.6745333333333"
      ],
      "text/markdown": [
       "20.6745333333333"
      ],
      "text/plain": [
       "[1] 20.67453"
      ]
     },
     "metadata": {},
     "output_type": "display_data"
    },
    {
     "data": {
      "text/html": [
       "9.02114285714286"
      ],
      "text/latex": [
       "9.02114285714286"
      ],
      "text/markdown": [
       "9.02114285714286"
      ],
      "text/plain": [
       "[1] 9.021143"
      ]
     },
     "metadata": {},
     "output_type": "display_data"
    }
   ],
   "source": [
    "mean(a3[a3$Sex == \"female\" & a3$Survived == \"1\" & a3$Age >= \"13\" & a3$Age < \"20\" & a3$Pclass == \"1\",]$Fare)\n",
    "mean(a3[a3$Sex == \"female\" & a3$Survived == \"1\" & a3$Age >= \"13\" & a3$Age < \"20\" & a3$Pclass == \"2\",]$Fare)\n",
    "mean(a3[a3$Sex == \"female\" & a3$Survived == \"1\" & a3$Age >= \"13\" & a3$Age < \"20\" & a3$Pclass == \"3\",]$Fare)"
   ]
  },
  {
   "cell_type": "markdown",
   "metadata": {},
   "source": [
    "### Dataset Calculations (Question 12)"
   ]
  },
  {
   "cell_type": "code",
   "execution_count": 6,
   "metadata": {},
   "outputs": [
    {
     "data": {
      "text/plain": [
       "\n",
       "        0         1 \n",
       "0.4066986 0.5933014 "
      ]
     },
     "metadata": {},
     "output_type": "display_data"
    }
   ],
   "source": [
    "avgfare = mean(a3$Fare)\n",
    "a3a = a3[a3$Fare>avgfare,]\n",
    "prop.table(table(a3a$Survived))"
   ]
  },
  {
   "cell_type": "markdown",
   "metadata": {},
   "source": [
    "### Standardization of Fare (Question 13)"
   ]
  },
  {
   "cell_type": "code",
   "execution_count": 7,
   "metadata": {},
   "outputs": [],
   "source": [
    "a3$sfare = (a3$Fare - avgfare) / sd(a3$Fare)"
   ]
  },
  {
   "cell_type": "markdown",
   "metadata": {},
   "source": [
    "### Data Plots (Questions 14-16)"
   ]
  },
  {
   "cell_type": "code",
   "execution_count": 8,
   "metadata": {},
   "outputs": [
    {
     "data": {},
     "metadata": {},
     "output_type": "display_data"
    },
    {
     "data": {},
     "metadata": {},
     "output_type": "display_data"
    },
    {
     "data": {
      "image/png": "[encoded data removed]",
      "text/plain": [
       "plot without title"
      ]
     },
     "metadata": {},
     "output_type": "display_data",
     "source": "R display func"
    },
    {
     "data": {},
     "metadata": {},
     "output_type": "display_data"
    },
    {
     "data": {
      "image/png": "[encoded data removed]",
      "text/plain": [
       "plot without title"
      ]
     },
     "metadata": {},
     "output_type": "display_data",
     "source": "R display func"
    },
    {
     "data": {
      "image/png": "[encoded data removed]",
      "text/plain": [
       "plot without title"
      ]
     },
     "metadata": {},
     "output_type": "display_data",
     "source": "R display func"
    }
   ],
   "source": [
    "ggplot(a3[a3$Age < x,], aes(x = Sex, fill = Survived)) + geom_bar(position = \"dodge\")\n",
    "ggplot(a3[a3$Survived ==\"1\" & a3$Fare > avgfare,], aes(x=Age)) + geom_density()\n",
    "ggplot(a3[a3$Embarked == \"S\" | a3$Embarked == \"Q\",], aes(x = Age, color = Embarked)) + geom_density()"
   ]
  },
  {
   "cell_type": "markdown",
   "metadata": {},
   "source": [
    "### Adding More Variables (Questions 17-18)"
   ]
  },
  {
   "cell_type": "code",
   "execution_count": 9,
   "metadata": {},
   "outputs": [
    {
     "name": "stderr",
     "output_type": "stream",
     "text": [
      "Warning message:\n",
      "\"Unknown or uninitialised column: 'cage'.\""
     ]
    }
   ],
   "source": [
    "a3$cfare = ifelse(a3$Fare <= avgfare, \"cheap\", \"expensive\")\n",
    "attach(a3)\n",
    "a3$cage[Age <= 10] = \"1\"\n",
    "a3$cage[Age > 10 & Age <= 20] = \"2\"\n",
    "a3$cage[Age > 20 & Age <= 30] = \"3\"\n",
    "a3$cage[Age > 30 & Age <= 40] = \"4\"\n",
    "a3$cage[Age > 40 & Age <= 50] = \"5\"\n",
    "a3$cage[Age > 50 & Age <= 60] = \"6\"\n",
    "a3$cage[Age > 60 & Age <= 70] = \"7\"\n",
    "a3$cage[Age > 70 & Age <= 80] = \"8\"\n",
    "a3$cage[Age > 80 & Age <= 90] = \"9\"\n",
    "a3$cage[Age > 90 & Age <= 100] = \"10\"\n",
    "detach(a3)"
   ]
  },
  {
   "cell_type": "markdown",
   "metadata": {},
   "source": [
    "### More Bar Charts (Questions 19-20)"
   ]
  },
  {
   "cell_type": "code",
   "execution_count": 10,
   "metadata": {},
   "outputs": [
    {
     "data": {},
     "metadata": {},
     "output_type": "display_data"
    },
    {
     "data": {},
     "metadata": {},
     "output_type": "display_data"
    },
    {
     "data": {
      "image/png": "[encoded data removed]",
      "text/plain": [
       "plot without title"
      ]
     },
     "metadata": {},
     "output_type": "display_data",
     "source": "R display func"
    },
    {
     "data": {
      "image/png": "[encoded data removed]",
      "text/plain": [
       "plot without title"
      ]
     },
     "metadata": {},
     "output_type": "display_data",
     "source": "R display func"
    }
   ],
   "source": [
    "ggplot(a3[a3$Fare > avgfare,], aes(x = cage, fill = Survived)) + geom_bar(position = \"dodge\")\n",
    "ggplot(a3[a3$Fare > avgfare,], aes(x = cage, fill = Survived)) + geom_bar(position = \"dodge\") + facet_wrap(~ Pclass)"
   ]
  }
 ],
 "metadata": {
  "kernelspec": {
   "display_name": "R",
   "language": "R",
   "name": "ir"
  },
  "language_info": {
   "codemirror_mode": "r",
   "file_extension": ".r",
   "mimetype": "text/x-r-source",
   "name": "R",
   "pygments_lexer": "r",
   "version": "3.5.1"
  }
 },
 "nbformat": 4,
 "nbformat_minor": 2
}
