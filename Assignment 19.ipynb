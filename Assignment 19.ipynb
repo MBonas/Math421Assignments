{
 "cells": [
  {
   "cell_type": "markdown",
   "metadata": {},
   "source": [
    "# Assignment 19"
   ]
  },
  {
   "cell_type": "markdown",
   "metadata": {},
   "source": [
    "## Dataset Cleaning/Preparing"
   ]
  },
  {
   "cell_type": "code",
   "execution_count": 3,
   "metadata": {},
   "outputs": [
    {
     "name": "stderr",
     "output_type": "stream",
     "text": [
      "Loading required package: lattice\n",
      "Loading required package: ggplot2\n"
     ]
    }
   ],
   "source": [
    "library(ranger)\n",
    "library(caret)\n",
    "library(MB14)\n",
    "a19 = read.csv(\"hmeq.csv\")\n",
    "a19$BAD = as.factor(a19$BAD)\n",
    "names(a19)[1] = \"target\"\n",
    "a19 = QuickClean(a19,0)"
   ]
  },
  {
   "cell_type": "markdown",
   "metadata": {},
   "source": [
    "## Initial Model Building"
   ]
  },
  {
   "cell_type": "code",
   "execution_count": 20,
   "metadata": {},
   "outputs": [
    {
     "data": {
      "text/plain": [
       "          Reference\n",
       "Prediction   0   1\n",
       "         0 775  22\n",
       "         1 186  70"
      ]
     },
     "metadata": {},
     "output_type": "display_data"
    },
    {
     "data": {
      "text/html": [
       "<strong>Accuracy:</strong> 0.802469135802469"
      ],
      "text/latex": [
       "\\textbf{Accuracy:} 0.802469135802469"
      ],
      "text/markdown": [
       "**Accuracy:** 0.802469135802469"
      ],
      "text/plain": [
       " Accuracy \n",
       "0.8024691 "
      ]
     },
     "metadata": {},
     "output_type": "display_data"
    },
    {
     "data": {
      "text/html": [
       "<strong>Balanced Accuracy:</strong> 0.783660589060309"
      ],
      "text/latex": [
       "\\textbf{Balanced Accuracy:} 0.783660589060309"
      ],
      "text/markdown": [
       "**Balanced Accuracy:** 0.783660589060309"
      ],
      "text/plain": [
       "Balanced Accuracy \n",
       "        0.7836606 "
      ]
     },
     "metadata": {},
     "output_type": "display_data"
    }
   ],
   "source": [
    "splitIndex <- createDataPartition(a19$target, p = .70, list = FALSE, times = 1)\n",
    "train <- a19[ splitIndex,]\n",
    "test <- a19[-splitIndex,]\n",
    "train1 = train[train$target == \"1\",]\n",
    "train0 = train[train$target == '0',]\n",
    "n1 = nrow(train1)\n",
    "n0 = nrow(train0)\n",
    "train00 = train0[sample(1:n0,n1),]\n",
    "train_under = rbind(train00, train1)\n",
    "rf1 = ranger(target~., data = train_under)\n",
    "c1 = predict(rf1, data = test)$predictions\n",
    "cm_orig=confusionMatrix(factor(c1), test$target, positive=\"1\")\n",
    "cm_orig$table\n",
    "cm_orig$overall[1]\n",
    "cm_orig$byClass[11]"
   ]
  },
  {
   "cell_type": "markdown",
   "metadata": {},
   "source": [
    "## Undersampling Model Building"
   ]
  },
  {
   "cell_type": "code",
   "execution_count": 24,
   "metadata": {},
   "outputs": [],
   "source": [
    "splitIndex <- createDataPartition(a19$target, p = .70, list = FALSE, times = 1)\n",
    "train <- a19[ splitIndex,]\n",
    "test <- a19[-splitIndex,]\n",
    "train1 = train[train$target == \"1\",]\n",
    "train0 = train[train$target == '0',]\n",
    "n1 = nrow(train1)\n",
    "n0 = nrow(train0)\n",
    "mc = matrix(0, ncol = 1000, nrow = nrow(test))\n",
    "for (i in 1:1000)\n",
    "{\n",
    "  train00 = train0[sample(1:n0,n1),]\n",
    "  train_under = rbind(train00, train1)\n",
    "  rf1 = ranger(target~., data = train_under)\n",
    "  c0 = predict(rf1, data = test)$predictions\n",
    "  mc[,i] = c0\n",
    "}\n",
    "mc = mc - 1"
   ]
  },
  {
   "cell_type": "code",
   "execution_count": 1,
   "metadata": {},
   "outputs": [],
   "source": [
    "cc = c(round((rowMeans(mc))))"
   ]
  },
  {
   "cell_type": "code",
   "execution_count": 4,
   "metadata": {},
   "outputs": [
    {
     "data": {
      "text/plain": [
       "          Reference\n",
       "Prediction   0   1\n",
       "         0 836  12\n",
       "         1 125  80"
      ]
     },
     "metadata": {},
     "output_type": "display_data"
    },
    {
     "data": {
      "text/html": [
       "<strong>Accuracy:</strong> 0.869895536562203"
      ],
      "text/latex": [
       "\\textbf{Accuracy:} 0.869895536562203"
      ],
      "text/markdown": [
       "**Accuracy:** 0.869895536562203"
      ],
      "text/plain": [
       " Accuracy \n",
       "0.8698955 "
      ]
     },
     "metadata": {},
     "output_type": "display_data"
    },
    {
     "data": {
      "text/html": [
       "<strong>Balanced Accuracy:</strong> 0.869746188300231"
      ],
      "text/latex": [
       "\\textbf{Balanced Accuracy:} 0.869746188300231"
      ],
      "text/markdown": [
       "**Balanced Accuracy:** 0.869746188300231"
      ],
      "text/plain": [
       "Balanced Accuracy \n",
       "        0.8697462 "
      ]
     },
     "metadata": {},
     "output_type": "display_data"
    }
   ],
   "source": [
    "cm=confusionMatrix(factor(cc), test$target, positive=\"1\")\n",
    "cm$table\n",
    "cm$overall[1]\n",
    "cm$byClass[11]"
   ]
  }
 ],
 "metadata": {
  "kernelspec": {
   "display_name": "R",
   "language": "R",
   "name": "ir"
  },
  "language_info": {
   "codemirror_mode": "r",
   "file_extension": ".r",
   "mimetype": "text/x-r-source",
   "name": "R",
   "pygments_lexer": "r",
   "version": "3.5.1"
  }
 },
 "nbformat": 4,
 "nbformat_minor": 2
}
